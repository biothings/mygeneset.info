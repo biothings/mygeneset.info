{
 "cells": [
  {
   "attachments": {},
   "cell_type": "markdown",
   "metadata": {},
   "source": [
    "# MyGeneset.info API versioning and local caching/snapshot"
   ]
  },
  {
   "attachments": {},
   "cell_type": "markdown",
   "metadata": {},
   "source": [
    "The data behind MyGeneset.info API will be continuously updated to keep everything up-to-date, without breaking data structure changes of course. At any time, the version of our data, including the original data source versions, can be recorded using the `/v1//metadata` API endpoint. While most of our users would appreciate this rolling-update feature of the MyGeneset.info API, however, we understand that certain scenarios require exact same results when the same API calls were requested at different times. This versioning requirement can be addressed by using the [biothings_client](https://pypi.org/project/biothings-client/) python client to cache API call responses locally. `biothings_client` is an universal Python client for all [BioThings APIs](https://biothings.io) (including this MyGeneset.info API).\n",
    "\n",
    "The example code below demonstrates the retrieval of the API metadata, including versions and more, and the use of local caching enabled by the `biothings_client` package."
   ]
  },
  {
   "attachments": {},
   "cell_type": "markdown",
   "metadata": {},
   "source": [
    "## Get metadata via direct API call without `biothings_client` package"
   ]
  },
  {
   "attachments": {},
   "cell_type": "markdown",
   "metadata": {},
   "source": [
    "The example code below uses popular [requests](https://requests.readthedocs.io) package to make API calls. `requests` can be easily installed as:\n",
    "\n",
    "```bash\n",
    "pip install requests\n",
    "```"
   ]
  },
  {
   "cell_type": "code",
   "execution_count": 1,
   "metadata": {},
   "outputs": [],
   "source": [
    "## import necessary packages first\n",
    "from pprint import pprint\n",
    "import requests"
   ]
  },
  {
   "cell_type": "code",
   "execution_count": 2,
   "metadata": {},
   "outputs": [
    {
     "name": "stdout",
     "output_type": "stream",
     "text": [
      "'2023-03-17T12:18:13.773000-07:00'\n"
     ]
    }
   ],
   "source": [
    "## Get current build information without the biothings_client Python pacakge\n",
    "r = requests.get(\"https://mygeneset.info/v1/metadata/\")\n",
    "data = r.json()\n",
    "version_date = data[\"build_date\"]\n",
    "pprint(version_date)"
   ]
  },
  {
   "cell_type": "code",
   "execution_count": 3,
   "metadata": {},
   "outputs": [
    {
     "name": "stdout",
     "output_type": "stream",
     "text": [
      "{'anonymous': 2, 'curated': 297796, 'total': 297798, 'user': 2}\n"
     ]
    }
   ],
   "source": [
    "# get stats of the current MyGeneset.info data build\n",
    "pprint(data[\"stats\"])"
   ]
  },
  {
   "cell_type": "code",
   "execution_count": 4,
   "metadata": {},
   "outputs": [
    {
     "name": "stdout",
     "output_type": "stream",
     "text": [
      "{'ctd': 'January-10-2023-16979M',\n",
      " 'do': 'obo-2023-02-27_genemap2-2023-03-16',\n",
      " 'go': '20230306',\n",
      " 'msigdb': '2022.1',\n",
      " 'reactome': '83',\n",
      " 'smpdb': '05-06-2019',\n",
      " 'wikipathways': '20230310'}\n"
     ]
    }
   ],
   "source": [
    "# get underlying data source versions of the current MyGeneset.info data build\n",
    "pprint(dict([(k, v[\"version\"]) for k, v in data[\"src\"].items()]))"
   ]
  },
  {
   "attachments": {},
   "cell_type": "markdown",
   "metadata": {},
   "source": [
    "## Make cached API calls using `biothings_client` pacakge"
   ]
  },
  {
   "attachments": {},
   "cell_type": "markdown",
   "metadata": {},
   "source": [
    "The example code below uses [biothings_client](https://pypi.org/project/biothings-client/) package to make API calls. `biothings_client` can be easily installed as:\n",
    "\n",
    "```bash\n",
    "pip install \"biothings_client[caching]\"\n",
    "```\n",
    "\n",
    "**Note:** including `[caching]` above will install an optional `requests_cache` package to enable the local caching feature."
   ]
  },
  {
   "cell_type": "code",
   "execution_count": 5,
   "metadata": {},
   "outputs": [],
   "source": [
    "## Using the universal biothings_client Python client to interact with MyGeneset.info\n",
    "import biothings_client\n",
    "mgs_client = biothings_client.get_client(\"geneset\")"
   ]
  },
  {
   "cell_type": "code",
   "execution_count": 6,
   "metadata": {},
   "outputs": [
    {
     "name": "stderr",
     "output_type": "stream",
     "text": [
      "INFO:biothings.client:[ Future queries will be cached in \"/home/cwu/prj2/mygeneset.info/docs/ipynb/mgs_cache.sqlite\" ]\n"
     ]
    }
   ],
   "source": [
    "## enable the local cache for future API calls, can be any name\n",
    "local_cache = \"mgs_cache\"\n",
    "mgs_client.set_caching(local_cache)"
   ]
  },
  {
   "cell_type": "code",
   "execution_count": 7,
   "metadata": {},
   "outputs": [
    {
     "name": "stderr",
     "output_type": "stream",
     "text": [
      "INFO:biothings.client:querying 1-2...\n",
      "INFO:biothings.client:done. [ from cache ]\n",
      "INFO:biothings.client:Finished.\n",
      "WARNING:biothings.client:2 input query terms found dup hits:\t[('wnt', 10), ('jak-stat', 10)]\n",
      "INFO:biothings.client:Pass \"returnall=True\" to return complete lists of duplicate or missing query terms.\n"
     ]
    }
   ],
   "source": [
    "## Once enabled, any API calls made (like the example call below) will be cached\n",
    "res = mgs_client.querymany([\"wnt\", \"jak-stat\"], fields=\"name,count,source,taxid\")"
   ]
  },
  {
   "cell_type": "code",
   "execution_count": 8,
   "metadata": {},
   "outputs": [
    {
     "name": "stderr",
     "output_type": "stream",
     "text": [
      "INFO:biothings.client:[ from cache ]\n"
     ]
    },
    {
     "name": "stdout",
     "output_type": "stream",
     "text": [
      "'2023-03-17T12:18:13.773000-07:00'\n",
      "{'anonymous': 2, 'curated': 297796, 'total': 297798, 'user': 2}\n",
      "{'ctd': 'January-10-2023-16979M',\n",
      " 'do': 'obo-2023-02-27_genemap2-2023-03-16',\n",
      " 'go': '20230306',\n",
      " 'msigdb': '2022.1',\n",
      " 'reactome': '83',\n",
      " 'smpdb': '05-06-2019',\n",
      " 'wikipathways': '20230310'}\n"
     ]
    }
   ],
   "source": [
    "## Metadata about the MyGeneset.info API (such as versions, stats, build info) can also be made via the client\n",
    "mgs_metadata = mgs_client.metadata()\n",
    "\n",
    "pprint(mgs_metadata[\"build_date\"])\n",
    "pprint(mgs_metadata[\"stats\"])\n",
    "pprint(dict([(k, v[\"version\"]) for k, v in mgs_metadata[\"src\"].items()]))"
   ]
  },
  {
   "cell_type": "code",
   "execution_count": 9,
   "metadata": {},
   "outputs": [
    {
     "name": "stderr",
     "output_type": "stream",
     "text": [
      "INFO:biothings.client:querying 1-2...\n",
      "INFO:biothings.client:done. [ from cache ]\n",
      "INFO:biothings.client:Finished.\n",
      "WARNING:biothings.client:2 input query terms found dup hits:\t[('wnt', 10), ('jak-stat', 10)]\n",
      "INFO:biothings.client:Pass \"returnall=True\" to return complete lists of duplicate or missing query terms.\n",
      "INFO:biothings.client:[ from cache ]\n"
     ]
    },
    {
     "name": "stdout",
     "output_type": "stream",
     "text": [
      "The two API calls above are identical: True\n",
      "The two metadata calls above are identical: True\n"
     ]
    }
   ],
   "source": [
    "## Make exactly the same API calls as above, but this time they will be retrieved from the local cache\n",
    "res_cached = mgs_client.querymany([\"wnt\", \"jak-stat\"], fields=\"name,count,source,taxid\")\n",
    "mgs_metadata_cached = mgs_client.metadata()\n",
    "print(\"The two API calls above are identical: {}\".format(res == res_cached))\n",
    "print(\"The two metadata calls above are identical: {}\".format(mgs_metadata == mgs_metadata_cached))"
   ]
  },
  {
   "cell_type": "code",
   "execution_count": 10,
   "metadata": {},
   "outputs": [],
   "source": [
    "## You can stop the caching at the end or anytime you want\n",
    "mgs_client.stop_caching()"
   ]
  },
  {
   "attachments": {},
   "cell_type": "markdown",
   "metadata": {},
   "source": [
    "**Note:** The local cache file is stored as `mgs_cache.sqlite` file in this case, if you copy the cache file along with the Python code here, the above code using `biothings_client` will always return the exactly same results."
   ]
  }
 ],
 "metadata": {
  "kernelspec": {
   "display_name": "devpy3",
   "language": "python",
   "name": "python3"
  },
  "language_info": {
   "codemirror_mode": {
    "name": "ipython",
    "version": 3
   },
   "file_extension": ".py",
   "mimetype": "text/x-python",
   "name": "python",
   "nbconvert_exporter": "python",
   "pygments_lexer": "ipython3",
   "version": "3.10.6"
  },
  "orig_nbformat": 4
 },
 "nbformat": 4,
 "nbformat_minor": 2
}
